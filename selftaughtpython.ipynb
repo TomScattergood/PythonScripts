{
 "cells": [
  {
   "cell_type": "code",
   "execution_count": 1,
   "metadata": {},
   "outputs": [
    {
     "name": "stdin",
     "output_type": "stream",
     "text": [
      "What is your name:  Thomas \n",
      "Enter your age:  22\n"
     ]
    },
    {
     "name": "stdout",
     "output_type": "stream",
     "text": [
      "Thomas Will be 100 years old in the year 2099\n"
     ]
    }
   ],
   "source": [
    "name = input(\"What is your name: \")\n",
    "age = int(input(\"Enter your age: \"))\n",
    "year = str((2022 - age) + 100)\n",
    "print (name + \"Will be 100 years old in the year \" + year) "
   ]
  },
  {
   "cell_type": "code",
   "execution_count": 1,
   "metadata": {},
   "outputs": [
    {
     "name": "stdout",
     "output_type": "stream",
     "text": [
      "What is your name: Thomas\n",
      "How old are you: 22\n",
      "Thomas is 22 years old \n"
     ]
    }
   ],
   "source": [
    "name = input(\"What is your name: \")\n",
    "age= str(int(input(\"How old are you: \")))\n",
    "print  (name + \" is \" + age + \" years old \".format(age))"
   ]
  },
  {
   "cell_type": "code",
   "execution_count": 5,
   "metadata": {},
   "outputs": [
    {
     "name": "stdin",
     "output_type": "stream",
     "text": [
      "Input a number:  10\n"
     ]
    },
    {
     "name": "stdout",
     "output_type": "stream",
     "text": [
      "10 is Even\n"
     ]
    }
   ],
   "source": [
    "num=int(input(\"Input a number: \"))\n",
    "if (num % 2) == 0:\n",
    "    print (\"{0} is Even\".format(num))\n",
    "else:\n",
    "    print(\"{0} is Odd\".format(num))"
   ]
  },
  {
   "cell_type": "code",
   "execution_count": null,
   "metadata": {},
   "outputs": [],
   "source": [
    "#Inputs of strings and numbers "
   ]
  },
  {
   "cell_type": "code",
   "execution_count": 22,
   "metadata": {},
   "outputs": [
    {
     "name": "stdout",
     "output_type": "stream",
     "text": [
      "[1, 1, 2, 3, 5, 8, 13]\n"
     ]
    }
   ],
   "source": [
    "number_list = [1, 1, 2, 3, 5, 8 , 13, 21, 34, 55, 89]\n",
    "# print ([output for item in list if filter])\n",
    "print ([number for number in number_list if number<20])"
   ]
  },
  {
   "cell_type": "code",
   "execution_count": 23,
   "metadata": {},
   "outputs": [
    {
     "name": "stdout",
     "output_type": "stream",
     "text": [
      "['pear', 'pineapple', 'orange', 'tangerine']\n"
     ]
    }
   ],
   "source": [
    "fruits = [\"apple\", \"pear\", \"apple\", \"pineapple\", \"orange\", \"tangerine\"]\n",
    "print ([object for object in fruits if object != \"apple\"])"
   ]
  },
  {
   "cell_type": "code",
   "execution_count": 22,
   "metadata": {},
   "outputs": [],
   "source": [
    "# Printing from a list (list comprehension) != - \"not equal\"  == - \"equal\""
   ]
  },
  {
   "cell_type": "code",
   "execution_count": null,
   "metadata": {},
   "outputs": [],
   "source": []
  },
  {
   "cell_type": "code",
   "execution_count": 18,
   "metadata": {},
   "outputs": [
    {
     "name": "stdout",
     "output_type": "stream",
     "text": [
      "Enter a number: 22\n",
      "[1, 2, 11, 22]\n",
      "22 is not a prime number\n"
     ]
    }
   ],
   "source": [
    "#Prime number checker\n",
    "num = int(input(\"Enter a number: \"))\n",
    "\n",
    "listRange = list(range(1, num+1))\n",
    "divisorList = []\n",
    "\n",
    "for number in listRange:\n",
    "    if num % number == 0:\n",
    "        divisorList.append(number)\n",
    "        \n",
    "print (divisorList)\n",
    "\n",
    "if divisorList[1]==num:\n",
    "    print(\"{0} is a prime number\".format(num))\n",
    "else:\n",
    "    print(\"{0} is not a prime number\".format(num))"
   ]
  },
  {
   "cell_type": "code",
   "execution_count": 6,
   "metadata": {},
   "outputs": [],
   "source": [
    "# Divisor solution"
   ]
  },
  {
   "cell_type": "code",
   "execution_count": null,
   "metadata": {},
   "outputs": [],
   "source": []
  },
  {
   "cell_type": "code",
   "execution_count": 4,
   "metadata": {},
   "outputs": [
    {
     "name": "stdin",
     "output_type": "stream",
     "text": [
      "Type name to check:  geri\n"
     ]
    },
    {
     "name": "stdout",
     "output_type": "stream",
     "text": [
      "This name is not in the list\n"
     ]
    }
   ],
   "source": [
    "list_of_names = [\"Thomas\", \"Mary\", \"William\", \"Ailsa\", \"Colin\", \"Matthew\", \"Brandon\"]\n",
    "name = input(\"Type name to check: \")\n",
    "if name in list_of_names:\n",
    "    print (\"This name is in the list\")\n",
    "else:\n",
    "    print (\"This name is not in the list\")\n",
    "    "
   ]
  },
  {
   "cell_type": "code",
   "execution_count": null,
   "metadata": {},
   "outputs": [],
   "source": []
  },
  {
   "cell_type": "code",
   "execution_count": 14,
   "metadata": {},
   "outputs": [
    {
     "name": "stdout",
     "output_type": "stream",
     "text": [
      "[1, 2, 3, 5, 8, 13, 21, 34, 55, 89]\n"
     ]
    }
   ],
   "source": [
    "a = [1, 1, 2, 3, 5, 5, 5, 5, 5, 5, 5, 8 , 13, 21, 34, 55, 89]\n",
    "b = list(range(1,91))\n",
    "c = []\n",
    "\n",
    "for item in a:\n",
    "    if item in b:\n",
    "        if item not in c:\n",
    "            c.append(item)\n",
    "print(c)"
   ]
  },
  {
   "cell_type": "code",
   "execution_count": 15,
   "metadata": {},
   "outputs": [],
   "source": [
    "# Common values in a list "
   ]
  },
  {
   "cell_type": "code",
   "execution_count": null,
   "metadata": {},
   "outputs": [],
   "source": []
  },
  {
   "cell_type": "code",
   "execution_count": 15,
   "metadata": {},
   "outputs": [
    {
     "name": "stdout",
     "output_type": "stream",
     "text": [
      "enter a word: thomas\n",
      "samoht\n",
      "thomas is not a palindrome\n"
     ]
    }
   ],
   "source": [
    "word = input(\"enter a word: \")\n",
    "word = str(word)\n",
    "reverse = word[::-1]\n",
    "print (reverse)\n",
    "if word == reverse:\n",
    "    print (word + \" is a palindrome\")\n",
    "else:\n",
    "    print (word + \" is not a palindrome\")"
   ]
  },
  {
   "cell_type": "code",
   "execution_count": 9,
   "metadata": {},
   "outputs": [],
   "source": [
    "#palindrome checker (input method above, function checker below)"
   ]
  },
  {
   "cell_type": "code",
   "execution_count": 41,
   "metadata": {},
   "outputs": [],
   "source": [
    "def palin_check(word):\n",
    "    print(word)\n",
    "    reverse = word[::-1]\n",
    "    print(reverse)\n",
    "    if word == reverse:\n",
    "        print (word + \" is a palindrome\")\n",
    "    else:\n",
    "        print (word + \" is not a palindrome\")"
   ]
  },
  {
   "cell_type": "code",
   "execution_count": 43,
   "metadata": {},
   "outputs": [
    {
     "name": "stdout",
     "output_type": "stream",
     "text": [
      "computer\n",
      "retupmoc\n",
      "computer is not a palindrome\n"
     ]
    }
   ],
   "source": [
    "palin_check(\"computer\")"
   ]
  },
  {
   "cell_type": "code",
   "execution_count": 26,
   "metadata": {},
   "outputs": [
    {
     "name": "stdout",
     "output_type": "stream",
     "text": [
      "[4, 16, 36, 64, 100]\n"
     ]
    }
   ],
   "source": [
    "a = [1, 4, 9, 16, 25, 36, 49, 64, 81, 100]\n",
    "b = [num for num in a if num%2 == 0]\n",
    "print (b)"
   ]
  },
  {
   "cell_type": "code",
   "execution_count": 11,
   "metadata": {},
   "outputs": [],
   "source": [
    "# List comprehensions - above code prints ovly even numbers from list a"
   ]
  },
  {
   "cell_type": "code",
   "execution_count": null,
   "metadata": {},
   "outputs": [],
   "source": []
  },
  {
   "cell_type": "code",
   "execution_count": 2,
   "metadata": {},
   "outputs": [
    {
     "name": "stdin",
     "output_type": "stream",
     "text": [
      "what is your name? thomas1\n",
      "what is your name? thomas2\n",
      "thomas1, Choose Rock Paper or Scissors:  paper\n",
      "thomas2, Choose Rock Paper or Scissors:  rock\n"
     ]
    }
   ],
   "source": [
    "import sys\n",
    "\n",
    "user1 = input (\"what is your name?\")\n",
    "user2 = input (\"what is your name?\")\n",
    "user1_answer= input(\"%s, Choose Rock Paper or Scissors: \" %user1)\n",
    "user2_answer= input(\"%s, Choose Rock Paper or Scissors: \" %user2)\n",
    "\n",
    "def compare (u1, u2):\n",
    "    if u1 == u2:\n",
    "        print (\"it's a tie!\")\n",
    "    elif u1 == \"rock\":\n",
    "        if u2 == \"scissors\":\n",
    "            print (user1 + \"wins\")\n",
    "        else: \n",
    "            print (user2 +\"wins\")\n",
    "            \n",
    "    elif u1 == \"scissors\":\n",
    "        if u2 == \"paper\":\n",
    "            print (user1 + \"wins\")\n",
    "        else: \n",
    "            print (user2 + \"wins\")\n",
    "            \n",
    "    elif u1 == \"paper\":\n",
    "        if u2 == \"rock\":\n",
    "            print (user1 + \" wins \")\n",
    "        else: \n",
    "            print (user2 + \" wins \")\n",
    "    else:\n",
    "        print (\"Invalid input! You have not entered rock, paper or scissors, try again.\")\n",
    "        sys.exit()\n",
    "print (compare(user1_answer, user2_answer))"
   ]
  },
  {
   "cell_type": "code",
   "execution_count": 1,
   "metadata": {},
   "outputs": [],
   "source": [
    "# Rock paper scissors "
   ]
  },
  {
   "cell_type": "code",
   "execution_count": null,
   "metadata": {},
   "outputs": [],
   "source": []
  },
  {
   "cell_type": "code",
   "execution_count": 6,
   "metadata": {},
   "outputs": [],
   "source": [
    "def my_function(a, b):\n",
    "    return a + b"
   ]
  },
  {
   "cell_type": "code",
   "execution_count": 9,
   "metadata": {},
   "outputs": [
    {
     "data": {
      "text/plain": [
       "3"
      ]
     },
     "execution_count": 9,
     "metadata": {},
     "output_type": "execute_result"
    }
   ],
   "source": [
    "my_function(1,2)"
   ]
  }
 ],
 "metadata": {
  "kernelspec": {
   "display_name": "Python 3 (ipykernel)",
   "language": "python",
   "name": "python3"
  },
  "language_info": {
   "codemirror_mode": {
    "name": "ipython",
    "version": 3
   },
   "file_extension": ".py",
   "mimetype": "text/x-python",
   "name": "python",
   "nbconvert_exporter": "python",
   "pygments_lexer": "ipython3",
   "version": "3.9.12"
  }
 },
 "nbformat": 4,
 "nbformat_minor": 4
}
