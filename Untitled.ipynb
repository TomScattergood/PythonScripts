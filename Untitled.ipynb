{
 "cells": [
  {
   "cell_type": "code",
   "execution_count": 1,
   "metadata": {},
   "outputs": [],
   "source": [
    "import numpy as np\n",
    "import matplotlib.pyplot as plt\n",
    "from scipy.optimize import curve_fit"
   ]
  },
  {
   "cell_type": "code",
   "execution_count": 2,
   "metadata": {},
   "outputs": [
    {
     "ename": "SyntaxError",
     "evalue": "invalid syntax (<ipython-input-2-170aae88bb48>, line 1)",
     "output_type": "error",
     "traceback": [
      "\u001b[1;36m  File \u001b[1;32m\"<ipython-input-2-170aae88bb48>\"\u001b[1;36m, line \u001b[1;32m1\u001b[0m\n\u001b[1;33m    function psi =  ShearCorner (x,y,alpha)\u001b[0m\n\u001b[1;37m             ^\u001b[0m\n\u001b[1;31mSyntaxError\u001b[0m\u001b[1;31m:\u001b[0m invalid syntax\n"
     ]
    }
   ],
   "source": [
    "function psi =  ShearCorner (x,y,alpha)\n",
    "%Name :     ShearCorner.m\n",
    "%\n",
    "%Purpose:   Calculate the normalised stream function for Stokes flow near \n",
    "%           a corner with a sheared lower boundary (X), separated by angle\n",
    "%           alpha.  \n",
    "%\n",
    "%           (Normalisation of length-scales over characteristic length.\n",
    "%            Normalisation of psi over shear-speed times characteristic\n",
    "%            length.)\n",
    "%\n",
    "%Calling Sequence: psi=ShearCorner(x,y,alpha)\n",
    "%\n",
    "%Input:     X - grid of x coordinates\n",
    "%           Y - grid of y coordinates\n",
    "%           alpha - separation angle \n",
    "%           \n",
    "%Output:    psi - the stream function evaluated on the grid\n",
    "%\n",
    "%Keywords:\n",
    "%\n",
    "%Example:   [x,y]=meshgrid(0:0.1:100); \n",
    "%           alpha=pi/2;                \n",
    "%           psi=ShearCorner(x,y,alpha);\n",
    "%           contour(x,y,psi,'ShowText','on')\n",
    "%\n",
    "%Example2:  [x,y]=meshgrid(0:0.1:100);\n",
    "%           alpha=pi/4;\n",
    "%           psi=ShearCorner(x,y,alpha);\n",
    "%           contour(x,y,psi,'ShowText','on')\n",
    "%           line([0,100],[0,100])\n",
    "%\n",
    "%Notes :    When using a mesh in MATLAB have to be careful\n",
    "%           to use \"times\" instead of \"mtimes\"\n",
    "%           i.e., want corresponding elements of arrays to be multiplied\n",
    "%           rather than matrix multiplication.\n",
    "%           \"A*B\" (mtimes) vs \"A.*B\" (times) \n",
    "%\n",
    "%Author /\n",
    "% History:  14/03/2019 - Created for “KC6027 Fluid Dynamics”\n"
   ]
  },
  {
   "cell_type": "code",
   "execution_count": null,
   "metadata": {},
   "outputs": [],
   "source": [
    "a = alpha;\n",
    "r = sqrt(x.^2 + y.^2);\n",
    "theta = atan2(y,x);"
   ]
  },
  {
   "cell_type": "code",
   "execution_count": null,
   "metadata": {},
   "outputs": [],
   "source": [
    "\n",
    "[x,y]=meshgrid(0:0.1:10);\n",
    "    alpha=pi/2;\n",
    "    psi=ShearCorner(x,y,alpha);\n",
    "    contour(x,y,psi,'ShowText','on')\n",
    "    line([0,100],[0,100])undary\n",
    "                    %(important if not at 90deg!!!)"
   ]
  }
 ],
 "metadata": {
  "kernelspec": {
   "display_name": "Python 3",
   "language": "python",
   "name": "python3"
  },
  "language_info": {
   "codemirror_mode": {
    "name": "ipython",
    "version": 3
   },
   "file_extension": ".py",
   "mimetype": "text/x-python",
   "name": "python",
   "nbconvert_exporter": "python",
   "pygments_lexer": "ipython3",
   "version": "3.8.5"
  }
 },
 "nbformat": 4,
 "nbformat_minor": 4
}
